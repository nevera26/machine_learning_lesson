{
  "nbformat": 4,
  "nbformat_minor": 0,
  "metadata": {
    "colab": {
      "name": "hwweek6.ipynb",
      "provenance": []
    },
    "kernelspec": {
      "name": "python3",
      "display_name": "Python 3"
    },
    "language_info": {
      "name": "python"
    }
  },
  "cells": [
    {
      "cell_type": "markdown",
      "metadata": {
        "id": "d8k3Nz7mVOK-"
      },
      "source": [
        "Rand index"
      ]
    },
    {
      "cell_type": "code",
      "metadata": {
        "colab": {
          "base_uri": "https://localhost:8080/"
        },
        "id": "p0hYQ-Z1Rhhl",
        "outputId": "a2eeedb8-b68a-4664-a8d3-e14e9003cafe"
      },
      "source": [
        "from sklearn import metrics\n",
        "labels_true = [0, 0, 0, 1, 1, 1]\n",
        "labels_pred = [0, 0, 1, 1, 2, 2]\n",
        "metrics.rand_score(labels_true, labels_pred)"
      ],
      "execution_count": null,
      "outputs": [
        {
          "output_type": "execute_result",
          "data": {
            "text/plain": [
              "0.6666666666666666"
            ]
          },
          "metadata": {},
          "execution_count": 1
        }
      ]
    },
    {
      "cell_type": "code",
      "metadata": {
        "colab": {
          "base_uri": "https://localhost:8080/"
        },
        "id": "2QTQ7k07RxK1",
        "outputId": "673b03ae-8260-4981-faba-ae441dcbf99d"
      },
      "source": [
        "metrics.adjusted_rand_score(labels_true, labels_pred)"
      ],
      "execution_count": null,
      "outputs": [
        {
          "output_type": "execute_result",
          "data": {
            "text/plain": [
              "0.24242424242424243"
            ]
          },
          "metadata": {},
          "execution_count": 2
        }
      ]
    },
    {
      "cell_type": "code",
      "metadata": {
        "colab": {
          "base_uri": "https://localhost:8080/"
        },
        "id": "acYJ0an5R6p7",
        "outputId": "c64764ce-f91d-4023-abad-ba0f9aeb345a"
      },
      "source": [
        "labels_pred = [1, 1, 0, 0, 3, 3]\n",
        "metrics.rand_score(labels_true, labels_pred)\n"
      ],
      "execution_count": null,
      "outputs": [
        {
          "output_type": "execute_result",
          "data": {
            "text/plain": [
              "0.6666666666666666"
            ]
          },
          "metadata": {},
          "execution_count": 4
        }
      ]
    },
    {
      "cell_type": "code",
      "metadata": {
        "colab": {
          "base_uri": "https://localhost:8080/"
        },
        "id": "H4-U1L1kR8dU",
        "outputId": "074bc65e-83ab-4d5d-8ffe-1bd1f9e87000"
      },
      "source": [
        "metrics.adjusted_rand_score(labels_true, labels_pred)"
      ],
      "execution_count": null,
      "outputs": [
        {
          "output_type": "execute_result",
          "data": {
            "text/plain": [
              "0.24242424242424243"
            ]
          },
          "metadata": {},
          "execution_count": 5
        }
      ]
    },
    {
      "cell_type": "code",
      "metadata": {
        "colab": {
          "base_uri": "https://localhost:8080/"
        },
        "id": "fOdZfJM5SC4N",
        "outputId": "bd3b5bed-a04c-4763-d5fa-20b224df21be"
      },
      "source": [
        "metrics.rand_score(labels_pred, labels_true)\n"
      ],
      "execution_count": null,
      "outputs": [
        {
          "output_type": "execute_result",
          "data": {
            "text/plain": [
              "0.6666666666666666"
            ]
          },
          "metadata": {},
          "execution_count": 6
        }
      ]
    },
    {
      "cell_type": "code",
      "metadata": {
        "colab": {
          "base_uri": "https://localhost:8080/"
        },
        "id": "RfeInL0qSEMz",
        "outputId": "29a9083d-9d42-46a1-84be-e2e5f30ba7e6"
      },
      "source": [
        "metrics.adjusted_rand_score(labels_pred, labels_true)\n"
      ],
      "execution_count": null,
      "outputs": [
        {
          "output_type": "execute_result",
          "data": {
            "text/plain": [
              "0.24242424242424243"
            ]
          },
          "metadata": {},
          "execution_count": 7
        }
      ]
    },
    {
      "cell_type": "code",
      "metadata": {
        "colab": {
          "base_uri": "https://localhost:8080/"
        },
        "id": "4jM617shSGqa",
        "outputId": "556aeb74-b79d-444a-ea4b-46d3a63504dd"
      },
      "source": [
        "labels_pred = labels_true[:]\n",
        "metrics.rand_score(labels_true, labels_pred)"
      ],
      "execution_count": null,
      "outputs": [
        {
          "output_type": "execute_result",
          "data": {
            "text/plain": [
              "1.0"
            ]
          },
          "metadata": {},
          "execution_count": 8
        }
      ]
    },
    {
      "cell_type": "code",
      "metadata": {
        "colab": {
          "base_uri": "https://localhost:8080/"
        },
        "id": "PEzkpDhxSKJX",
        "outputId": "52ab7a29-f97f-434b-838d-9cc842a3c171"
      },
      "source": [
        "metrics.adjusted_rand_score(labels_true, labels_pred)\n"
      ],
      "execution_count": null,
      "outputs": [
        {
          "output_type": "execute_result",
          "data": {
            "text/plain": [
              "1.0"
            ]
          },
          "metadata": {},
          "execution_count": 9
        }
      ]
    },
    {
      "cell_type": "code",
      "metadata": {
        "colab": {
          "base_uri": "https://localhost:8080/"
        },
        "id": "O2kF_FGRSMW_",
        "outputId": "9ab3bb0e-7614-4766-ba3c-82bb918b995c"
      },
      "source": [
        "labels_true = [0, 0, 0, 0, 0, 0, 1, 1]\n",
        "labels_pred = [0, 1, 2, 3, 4, 5, 5, 6]\n",
        "metrics.rand_score(labels_true, labels_pred)"
      ],
      "execution_count": null,
      "outputs": [
        {
          "output_type": "execute_result",
          "data": {
            "text/plain": [
              "0.39285714285714285"
            ]
          },
          "metadata": {},
          "execution_count": 10
        }
      ]
    },
    {
      "cell_type": "code",
      "metadata": {
        "colab": {
          "base_uri": "https://localhost:8080/"
        },
        "id": "IGa-SmQMSRU4",
        "outputId": "5d024765-8be1-41f1-ee99-e4d332384c7a"
      },
      "source": [
        "metrics.adjusted_rand_score(labels_true, labels_pred)\n"
      ],
      "execution_count": null,
      "outputs": [
        {
          "output_type": "execute_result",
          "data": {
            "text/plain": [
              "-0.07207207207207207"
            ]
          },
          "metadata": {},
          "execution_count": 11
        }
      ]
    },
    {
      "cell_type": "markdown",
      "metadata": {
        "id": "2cHUo5JmVI_0"
      },
      "source": [
        "Mutual Information based scores"
      ]
    },
    {
      "cell_type": "code",
      "metadata": {
        "id": "U0XPED-sSbJG"
      },
      "source": [
        "\n",
        "from sklearn import metrics\n",
        "labels_true = [0, 0, 0, 1, 1, 1]\n",
        "labels_pred = [0, 0, 1, 1, 2, 2]"
      ],
      "execution_count": null,
      "outputs": []
    },
    {
      "cell_type": "code",
      "metadata": {
        "colab": {
          "base_uri": "https://localhost:8080/"
        },
        "id": "KccerWw0ShlX",
        "outputId": "1caa7f4c-87f0-4966-e86e-541fa19754db"
      },
      "source": [
        "metrics.adjusted_mutual_info_score(labels_true, labels_pred)  "
      ],
      "execution_count": null,
      "outputs": [
        {
          "output_type": "execute_result",
          "data": {
            "text/plain": [
              "0.2987924581708901"
            ]
          },
          "metadata": {},
          "execution_count": 13
        }
      ]
    },
    {
      "cell_type": "code",
      "metadata": {
        "colab": {
          "base_uri": "https://localhost:8080/"
        },
        "id": "bmFP9QwdSo3Q",
        "outputId": "420e8d32-0028-4f5c-f63e-e71a5bd8ca4f"
      },
      "source": [
        "labels_pred = [1, 1, 0, 0, 3, 3]\n",
        "metrics.adjusted_mutual_info_score(labels_true, labels_pred)  \n"
      ],
      "execution_count": null,
      "outputs": [
        {
          "output_type": "execute_result",
          "data": {
            "text/plain": [
              "0.2987924581708901"
            ]
          },
          "metadata": {},
          "execution_count": 14
        }
      ]
    },
    {
      "cell_type": "code",
      "metadata": {
        "colab": {
          "base_uri": "https://localhost:8080/"
        },
        "id": "O49b4Qa7TAIB",
        "outputId": "e8688a61-b4c0-4322-bdc2-c5a15faed7a1"
      },
      "source": [
        "metrics.adjusted_mutual_info_score(labels_pred, labels_true) "
      ],
      "execution_count": null,
      "outputs": [
        {
          "output_type": "execute_result",
          "data": {
            "text/plain": [
              "0.2987924581708903"
            ]
          },
          "metadata": {},
          "execution_count": 15
        }
      ]
    },
    {
      "cell_type": "code",
      "metadata": {
        "colab": {
          "base_uri": "https://localhost:8080/"
        },
        "id": "VlfbQk6XTE8g",
        "outputId": "9bed2e32-c21a-41e0-965d-21eab78c34fd"
      },
      "source": [
        "labels_pred = labels_true[:]\n",
        "metrics.adjusted_mutual_info_score(labels_true, labels_pred)  "
      ],
      "execution_count": null,
      "outputs": [
        {
          "output_type": "execute_result",
          "data": {
            "text/plain": [
              "1.0"
            ]
          },
          "metadata": {},
          "execution_count": 16
        }
      ]
    },
    {
      "cell_type": "code",
      "metadata": {
        "colab": {
          "base_uri": "https://localhost:8080/"
        },
        "id": "FyB91dGiTIMC",
        "outputId": "aedc9e60-205d-4483-b418-8a26c8dc85f2"
      },
      "source": [
        "metrics.normalized_mutual_info_score(labels_true, labels_pred)  \n"
      ],
      "execution_count": null,
      "outputs": [
        {
          "output_type": "execute_result",
          "data": {
            "text/plain": [
              "1.0"
            ]
          },
          "metadata": {},
          "execution_count": 17
        }
      ]
    },
    {
      "cell_type": "code",
      "metadata": {
        "colab": {
          "base_uri": "https://localhost:8080/"
        },
        "id": "6_360IvlTJhC",
        "outputId": "ebdde773-d87d-4dd8-eed0-b0aab74b9617"
      },
      "source": [
        "metrics.mutual_info_score(labels_true, labels_pred)  \n"
      ],
      "execution_count": null,
      "outputs": [
        {
          "output_type": "execute_result",
          "data": {
            "text/plain": [
              "0.6931471805599452"
            ]
          },
          "metadata": {},
          "execution_count": 18
        }
      ]
    },
    {
      "cell_type": "code",
      "metadata": {
        "colab": {
          "base_uri": "https://localhost:8080/"
        },
        "id": "Clv5OEusTLkD",
        "outputId": "55d5ea9f-3e71-49b1-b8f1-2fc129447979"
      },
      "source": [
        "labels_true = [0, 1, 2, 0, 3, 4, 5, 1]\n",
        "labels_pred = [1, 1, 0, 0, 2, 2, 2, 2]\n",
        "metrics.adjusted_mutual_info_score(labels_true, labels_pred)  "
      ],
      "execution_count": null,
      "outputs": [
        {
          "output_type": "execute_result",
          "data": {
            "text/plain": [
              "-0.16666666666666655"
            ]
          },
          "metadata": {},
          "execution_count": 19
        }
      ]
    },
    {
      "cell_type": "markdown",
      "metadata": {
        "id": "EevnH9E7TSif"
      },
      "source": [
        "Homogeneity, completeness and V-measure"
      ]
    },
    {
      "cell_type": "code",
      "metadata": {
        "colab": {
          "base_uri": "https://localhost:8080/"
        },
        "id": "XyuRzD12TULy",
        "outputId": "3bc636e1-46ea-40c4-aecd-5966fff3e7f2"
      },
      "source": [
        "from sklearn import metrics\n",
        "labels_true = [0, 0, 0, 1, 1, 1]\n",
        "labels_pred = [0, 0, 1, 1, 2, 2]\n",
        "\n",
        "metrics.homogeneity_score(labels_true, labels_pred)\n"
      ],
      "execution_count": null,
      "outputs": [
        {
          "output_type": "execute_result",
          "data": {
            "text/plain": [
              "0.6666666666666669"
            ]
          },
          "metadata": {},
          "execution_count": 20
        }
      ]
    },
    {
      "cell_type": "code",
      "metadata": {
        "colab": {
          "base_uri": "https://localhost:8080/"
        },
        "id": "lmoLD_1vTXHR",
        "outputId": "d325d2a1-6056-4d74-9cd0-052f3078460a"
      },
      "source": [
        "metrics.completeness_score(labels_true, labels_pred)"
      ],
      "execution_count": null,
      "outputs": [
        {
          "output_type": "execute_result",
          "data": {
            "text/plain": [
              "0.420619835714305"
            ]
          },
          "metadata": {},
          "execution_count": 21
        }
      ]
    },
    {
      "cell_type": "code",
      "metadata": {
        "colab": {
          "base_uri": "https://localhost:8080/"
        },
        "id": "ilYavVu3TZJM",
        "outputId": "6edbc87e-86f9-41c9-bb46-aaf9173ea558"
      },
      "source": [
        "metrics.v_measure_score(labels_true, labels_pred)"
      ],
      "execution_count": null,
      "outputs": [
        {
          "output_type": "execute_result",
          "data": {
            "text/plain": [
              "0.5158037429793889"
            ]
          },
          "metadata": {},
          "execution_count": 22
        }
      ]
    },
    {
      "cell_type": "code",
      "metadata": {
        "colab": {
          "base_uri": "https://localhost:8080/"
        },
        "id": "AZCdtmvaTdsS",
        "outputId": "6699f35d-4a5b-4b06-d141-ee5d25bcfee8"
      },
      "source": [
        "metrics.v_measure_score(labels_true, labels_pred, beta=0.6)"
      ],
      "execution_count": null,
      "outputs": [
        {
          "output_type": "execute_result",
          "data": {
            "text/plain": [
              "0.5467344787062375"
            ]
          },
          "metadata": {},
          "execution_count": 23
        }
      ]
    },
    {
      "cell_type": "code",
      "metadata": {
        "colab": {
          "base_uri": "https://localhost:8080/"
        },
        "id": "cjTG9HxwTgA1",
        "outputId": "4660579b-d454-4512-b72f-708b4dd037e4"
      },
      "source": [
        "metrics.v_measure_score(labels_true, labels_pred, beta=1.8)"
      ],
      "execution_count": null,
      "outputs": [
        {
          "output_type": "execute_result",
          "data": {
            "text/plain": [
              "0.48447946234141737"
            ]
          },
          "metadata": {},
          "execution_count": 24
        }
      ]
    },
    {
      "cell_type": "code",
      "metadata": {
        "colab": {
          "base_uri": "https://localhost:8080/"
        },
        "id": "2c3BkzWJThgC",
        "outputId": "26ef14f7-2130-47f7-9928-0061d2c8328e"
      },
      "source": [
        "metrics.homogeneity_completeness_v_measure(labels_true, labels_pred)"
      ],
      "execution_count": null,
      "outputs": [
        {
          "output_type": "execute_result",
          "data": {
            "text/plain": [
              "(0.6666666666666669, 0.420619835714305, 0.5158037429793889)"
            ]
          },
          "metadata": {},
          "execution_count": 25
        }
      ]
    },
    {
      "cell_type": "code",
      "metadata": {
        "colab": {
          "base_uri": "https://localhost:8080/"
        },
        "id": "6jCBLBrpTjIr",
        "outputId": "428cfca5-b3e7-436d-e394-37cec84809bd"
      },
      "source": [
        "labels_pred = [0, 0, 0, 1, 2, 2]\n",
        "metrics.homogeneity_completeness_v_measure(labels_true, labels_pred)"
      ],
      "execution_count": null,
      "outputs": [
        {
          "output_type": "execute_result",
          "data": {
            "text/plain": [
              "(1.0, 0.6853314789615865, 0.8132898335036762)"
            ]
          },
          "metadata": {},
          "execution_count": 26
        }
      ]
    },
    {
      "cell_type": "markdown",
      "metadata": {
        "id": "s2qjOoJ_TpCa"
      },
      "source": [
        "Fowlkes-Mallows scores"
      ]
    },
    {
      "cell_type": "code",
      "metadata": {
        "id": "PlQWVhglTrWJ"
      },
      "source": [
        "from sklearn import metrics\n",
        "labels_true = [0, 0, 0, 1, 1, 1]\n",
        "labels_pred = [0, 0, 1, 1, 2, 2]"
      ],
      "execution_count": null,
      "outputs": []
    },
    {
      "cell_type": "code",
      "metadata": {
        "colab": {
          "base_uri": "https://localhost:8080/"
        },
        "id": "egXJjLz6Tv7V",
        "outputId": "3748c5ab-52b1-4bc9-a46a-2db331cd8f80"
      },
      "source": [
        "metrics.fowlkes_mallows_score(labels_true, labels_pred)"
      ],
      "execution_count": null,
      "outputs": [
        {
          "output_type": "execute_result",
          "data": {
            "text/plain": [
              "0.4714045207910317"
            ]
          },
          "metadata": {},
          "execution_count": 28
        }
      ]
    },
    {
      "cell_type": "code",
      "metadata": {
        "colab": {
          "base_uri": "https://localhost:8080/"
        },
        "id": "ZW67PhtwTw1y",
        "outputId": "68265618-24cf-412a-affb-22df77c686ee"
      },
      "source": [
        "labels_pred = [1, 1, 0, 0, 3, 3]\n",
        "\n",
        "metrics.fowlkes_mallows_score(labels_true, labels_pred)"
      ],
      "execution_count": null,
      "outputs": [
        {
          "output_type": "execute_result",
          "data": {
            "text/plain": [
              "0.4714045207910317"
            ]
          },
          "metadata": {},
          "execution_count": 29
        }
      ]
    },
    {
      "cell_type": "code",
      "metadata": {
        "colab": {
          "base_uri": "https://localhost:8080/"
        },
        "id": "r6hLrFQPTzep",
        "outputId": "fccc3d37-8436-455a-f5cb-b147fe566a90"
      },
      "source": [
        "labels_pred = labels_true[:]\n",
        "metrics.fowlkes_mallows_score(labels_true, labels_pred)"
      ],
      "execution_count": null,
      "outputs": [
        {
          "output_type": "execute_result",
          "data": {
            "text/plain": [
              "1.0"
            ]
          },
          "metadata": {},
          "execution_count": 30
        }
      ]
    },
    {
      "cell_type": "code",
      "metadata": {
        "colab": {
          "base_uri": "https://localhost:8080/"
        },
        "id": "mWAG10D5T2Lc",
        "outputId": "e4fc509f-b786-4d33-a776-2e93481ad2c3"
      },
      "source": [
        "labels_true = [0, 1, 2, 0, 3, 4, 5, 1]\n",
        "labels_pred = [1, 1, 0, 0, 2, 2, 2, 2]\n",
        "metrics.fowlkes_mallows_score(labels_true, labels_pred)"
      ],
      "execution_count": null,
      "outputs": [
        {
          "output_type": "execute_result",
          "data": {
            "text/plain": [
              "0.0"
            ]
          },
          "metadata": {},
          "execution_count": 31
        }
      ]
    },
    {
      "cell_type": "markdown",
      "metadata": {
        "id": "qxfFlfc_UFL3"
      },
      "source": [
        "Silhouette Coefficient"
      ]
    },
    {
      "cell_type": "code",
      "metadata": {
        "id": "qalp34NrUI8Q"
      },
      "source": [
        "from sklearn import metrics\n",
        "from sklearn.metrics import pairwise_distances\n",
        "from sklearn import datasets\n",
        "X, y = datasets.load_iris(return_X_y=True)"
      ],
      "execution_count": null,
      "outputs": []
    },
    {
      "cell_type": "code",
      "metadata": {
        "colab": {
          "base_uri": "https://localhost:8080/"
        },
        "id": "OpOCwVjyURjQ",
        "outputId": "f6d39441-11a9-4cf8-90df-bf04648d7c4e"
      },
      "source": [
        "import numpy as np\n",
        "from sklearn.cluster import KMeans\n",
        "kmeans_model = KMeans(n_clusters=3, random_state=1).fit(X)\n",
        "labels = kmeans_model.labels_\n",
        "metrics.silhouette_score(X, labels, metric='euclidean')"
      ],
      "execution_count": null,
      "outputs": [
        {
          "output_type": "execute_result",
          "data": {
            "text/plain": [
              "0.5528190123564091"
            ]
          },
          "metadata": {},
          "execution_count": 33
        }
      ]
    },
    {
      "cell_type": "markdown",
      "metadata": {
        "id": "_xmocVVKUWwB"
      },
      "source": [
        "Calinski-Harabasz Index"
      ]
    },
    {
      "cell_type": "code",
      "metadata": {
        "id": "lHOwnQoeUZrp"
      },
      "source": [
        "from sklearn import metrics\n",
        "from sklearn.metrics import pairwise_distances\n",
        "from sklearn import datasets\n",
        "X, y = datasets.load_iris(return_X_y=True)"
      ],
      "execution_count": null,
      "outputs": []
    },
    {
      "cell_type": "code",
      "metadata": {
        "colab": {
          "base_uri": "https://localhost:8080/"
        },
        "id": "s5ofX9J4Ucdg",
        "outputId": "7c4a395e-d4cd-40ab-b765-cb63f48e7b45"
      },
      "source": [
        "import numpy as np\n",
        "from sklearn.cluster import KMeans\n",
        "kmeans_model = KMeans(n_clusters=3, random_state=1).fit(X)\n",
        "labels = kmeans_model.labels_\n",
        "metrics.calinski_harabasz_score(X, labels)"
      ],
      "execution_count": null,
      "outputs": [
        {
          "output_type": "execute_result",
          "data": {
            "text/plain": [
              "561.62775662962"
            ]
          },
          "metadata": {},
          "execution_count": 35
        }
      ]
    },
    {
      "cell_type": "markdown",
      "metadata": {
        "id": "kcYE1k8UUgu9"
      },
      "source": [
        "Davies-Bouldin Index"
      ]
    },
    {
      "cell_type": "code",
      "metadata": {
        "colab": {
          "base_uri": "https://localhost:8080/"
        },
        "id": "hWAeRj47Ui89",
        "outputId": "ed57bcff-67b1-443b-ba5c-f840b43f22f7"
      },
      "source": [
        "from sklearn import datasets\n",
        "iris = datasets.load_iris()\n",
        "X = iris.data\n",
        "from sklearn.cluster import KMeans\n",
        "from sklearn.metrics import davies_bouldin_score\n",
        "kmeans = KMeans(n_clusters=3, random_state=1).fit(X)\n",
        "labels = kmeans.labels_\n",
        "davies_bouldin_score(X, labels)"
      ],
      "execution_count": null,
      "outputs": [
        {
          "output_type": "execute_result",
          "data": {
            "text/plain": [
              "0.6619715465007511"
            ]
          },
          "metadata": {},
          "execution_count": 36
        }
      ]
    },
    {
      "cell_type": "markdown",
      "metadata": {
        "id": "zDRZZ8XhUx1a"
      },
      "source": [
        "Contingency Matrix"
      ]
    },
    {
      "cell_type": "code",
      "metadata": {
        "colab": {
          "base_uri": "https://localhost:8080/"
        },
        "id": "jNOgmZNwUzi2",
        "outputId": "330e2853-cef1-406b-8d78-9ac62a004853"
      },
      "source": [
        "from sklearn.metrics.cluster import contingency_matrix\n",
        "x = [\"a\", \"a\", \"a\", \"b\", \"b\", \"b\"]\n",
        "y = [0, 0, 1, 1, 2, 2]\n",
        "contingency_matrix(x, y)"
      ],
      "execution_count": null,
      "outputs": [
        {
          "output_type": "execute_result",
          "data": {
            "text/plain": [
              "array([[2, 1, 0],\n",
              "       [0, 1, 2]])"
            ]
          },
          "metadata": {},
          "execution_count": 37
        }
      ]
    },
    {
      "cell_type": "markdown",
      "metadata": {
        "id": "WlwYAtstU4YG"
      },
      "source": [
        "Pair Confusion Matrix"
      ]
    },
    {
      "cell_type": "code",
      "metadata": {
        "colab": {
          "base_uri": "https://localhost:8080/"
        },
        "id": "MZWDEJVdU6Yn",
        "outputId": "945bf255-6fee-479f-8531-dce84a7e10e7"
      },
      "source": [
        "from sklearn.metrics.cluster import pair_confusion_matrix\n",
        "pair_confusion_matrix([0, 0, 1, 1], [0, 0, 1, 1])"
      ],
      "execution_count": null,
      "outputs": [
        {
          "output_type": "execute_result",
          "data": {
            "text/plain": [
              "array([[8, 0],\n",
              "       [0, 4]])"
            ]
          },
          "metadata": {},
          "execution_count": 38
        }
      ]
    },
    {
      "cell_type": "code",
      "metadata": {
        "id": "0p2BzzLxU8VQ"
      },
      "source": [
        ""
      ],
      "execution_count": null,
      "outputs": []
    },
    {
      "cell_type": "code",
      "metadata": {
        "colab": {
          "base_uri": "https://localhost:8080/"
        },
        "id": "AFgN-ei_U9lr",
        "outputId": "ee0886b8-4095-490f-a2bb-e0127efde01e"
      },
      "source": [
        "pair_confusion_matrix([0, 0, 1, 1], [1, 1, 0, 0])"
      ],
      "execution_count": null,
      "outputs": [
        {
          "output_type": "execute_result",
          "data": {
            "text/plain": [
              "array([[8, 0],\n",
              "       [0, 4]])"
            ]
          },
          "metadata": {},
          "execution_count": 39
        }
      ]
    },
    {
      "cell_type": "code",
      "metadata": {
        "colab": {
          "base_uri": "https://localhost:8080/"
        },
        "id": "BxUnPAIJU-we",
        "outputId": "01453c0a-524c-40e6-fe39-02e3b5cda3c7"
      },
      "source": [
        "pair_confusion_matrix([0, 0, 1, 2], [0, 0, 1, 1])"
      ],
      "execution_count": null,
      "outputs": [
        {
          "output_type": "execute_result",
          "data": {
            "text/plain": [
              "array([[8, 2],\n",
              "       [0, 2]])"
            ]
          },
          "metadata": {},
          "execution_count": 40
        }
      ]
    },
    {
      "cell_type": "code",
      "metadata": {
        "colab": {
          "base_uri": "https://localhost:8080/"
        },
        "id": "R-eF5FNkVA7l",
        "outputId": "f51dd3b0-8758-46db-b316-3a924603d150"
      },
      "source": [
        "pair_confusion_matrix([0, 0, 1, 1], [0, 0, 1, 2])\n"
      ],
      "execution_count": null,
      "outputs": [
        {
          "output_type": "execute_result",
          "data": {
            "text/plain": [
              "array([[8, 0],\n",
              "       [2, 2]])"
            ]
          },
          "metadata": {},
          "execution_count": 41
        }
      ]
    },
    {
      "cell_type": "code",
      "metadata": {
        "colab": {
          "base_uri": "https://localhost:8080/"
        },
        "id": "ON4mQDJAVDFs",
        "outputId": "efaf3bad-7671-4159-a661-b593221f25f8"
      },
      "source": [
        "pair_confusion_matrix([0, 0, 0, 0], [0, 1, 2, 3])\n"
      ],
      "execution_count": null,
      "outputs": [
        {
          "output_type": "execute_result",
          "data": {
            "text/plain": [
              "array([[ 0,  0],\n",
              "       [12,  0]])"
            ]
          },
          "metadata": {},
          "execution_count": 42
        }
      ]
    }
  ]
}