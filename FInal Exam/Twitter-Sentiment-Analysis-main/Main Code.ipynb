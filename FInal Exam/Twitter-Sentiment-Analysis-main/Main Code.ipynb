{
  "nbformat": 4,
  "nbformat_minor": 0,
  "metadata": {
    "colab": {
      "name": "Hasil Code.ipynb",
      "provenance": []
    },
    "kernelspec": {
      "name": "python3",
      "display_name": "Python 3"
    },
    "language_info": {
      "name": "python"
    },
    "accelerator": "GPU"
  },
  "cells": [
    {
      "cell_type": "code",
      "source": [
        "!python2 code/preprocess.py dataset/train-processed.csv #Process train data"
      ],
      "metadata": {
        "colab": {
          "base_uri": "https://localhost:8080/"
        },
        "id": "khBNwa9Obon9",
        "outputId": "2ea69f69-be79-4be8-bf0a-3e2cb5bbb135"
      },
      "execution_count": 2,
      "outputs": [
        {
          "output_type": "stream",
          "name": "stdout",
          "text": [
            "Processing 100000/100000\n",
            "Saved processed tweets to: dataset/train-processed-processed.csv\n"
          ]
        }
      ]
    },
    {
      "cell_type": "code",
      "source": [
        "!python2 code/preprocess.py dataset/test-processed.csv #Process test data"
      ],
      "metadata": {
        "colab": {
          "base_uri": "https://localhost:8080/"
        },
        "id": "jbaWDMTFcBGO",
        "outputId": "85f05f3e-a375-4de5-a5c9-1a4f46eaaf86"
      },
      "execution_count": 3,
      "outputs": [
        {
          "output_type": "stream",
          "name": "stdout",
          "text": [
            "Traceback (most recent call last):\n",
            "  File \"code/preprocess.py\", line 107, in <module>\n",
            "    preprocess_csv(csv_file_name, processed_file_name, test_file=False)\n",
            "  File \"code/preprocess.py\", line 81, in preprocess_csv\n",
            "    positive = int(line[:line.find(',')])\n",
            "ValueError: invalid literal for int() with base 10: 'is so sad for my apl friend'\n"
          ]
        }
      ]
    },
    {
      "cell_type": "code",
      "source": [
        "!python2 code/stats.py dataset/train-processed-processed.csv #Data train"
      ],
      "metadata": {
        "colab": {
          "base_uri": "https://localhost:8080/"
        },
        "id": "6i2BDPYOcPkP",
        "outputId": "a7f51160-1c96-4250-bc53-b3bb64ad4433"
      },
      "execution_count": 4,
      "outputs": [
        {
          "output_type": "stream",
          "name": "stdout",
          "text": [
            "Processing 100000/100000\n",
            "Calculating frequency distribution\n",
            "Saved uni-frequency distribution to dataset/train-processed-processed-freqdist.pkl\n",
            "Saved bi-frequency distribution to dataset/train-processed-processed-freqdist-bi.pkl\n",
            "\n",
            "[Analysis Statistics]\n",
            "Tweets => Total: 100000, Positive: 56462, Negative: 43538\n",
            "User Mentions => Total: 0, Avg: 0.0000, Max: 0\n",
            "URLs => Total: 0, Avg: 0.0000, Max: 0\n",
            "Emojis => Total: 0, Positive: 0, Negative: 0, Avg: 0.0000, Max: 0\n",
            "Words => Total: 1283269, Unique: 50361, Avg: 12.8327, Max: 41, Min: 0\n",
            "Bigrams => Total: 1183437, Unique: 392543, Avg: 11.8344\n"
          ]
        }
      ]
    },
    {
      "cell_type": "code",
      "source": [
        "!python2 code/stats.py dataset/test-processed-processed.csv #New data test"
      ],
      "metadata": {
        "colab": {
          "base_uri": "https://localhost:8080/"
        },
        "id": "ENAjIng1clZO",
        "outputId": "0c503dce-4848-4704-c614-6c9ec8a66d14"
      },
      "execution_count": 5,
      "outputs": [
        {
          "output_type": "stream",
          "name": "stdout",
          "text": [
            "\n",
            "Calculating frequency distribution\n",
            "Saved uni-frequency distribution to dataset/test-processed-processed-freqdist.pkl\n",
            "Saved bi-frequency distribution to dataset/test-processed-processed-freqdist-bi.pkl\n",
            "\n",
            "[Analysis Statistics]\n",
            "Tweets => Total: 0, Positive: 0, Negative: 0\n",
            "Traceback (most recent call last):\n",
            "  File \"code/stats.py\", line 106, in <module>\n",
            "    print 'User Mentions => Total: %d, Avg: %.4f, Max: %d' % (num_mentions, num_mentions / float(num_tweets), max_mentions)\n",
            "ZeroDivisionError: float division by zero\n"
          ]
        }
      ]
    },
    {
      "cell_type": "code",
      "source": [
        "!python2 code/baseline.py TRAIN = True #use baseline"
      ],
      "metadata": {
        "colab": {
          "base_uri": "https://localhost:8080/"
        },
        "id": "a2RI7jOpcthK",
        "outputId": "6b932318-5b6d-4f33-c367-ebb71b8dcf1d"
      },
      "execution_count": 8,
      "outputs": [
        {
          "output_type": "stream",
          "name": "stdout",
          "text": [
            "Correct = 65.32%\n"
          ]
        }
      ]
    },
    {
      "cell_type": "code",
      "source": [
        "!python2 code/naivebayes.py TRAIN = True #Classification"
      ],
      "metadata": {
        "colab": {
          "base_uri": "https://localhost:8080/"
        },
        "id": "8mwFJ0p9dPxA",
        "outputId": "4bc567b2-dd85-4310-b0c6-74d7242914f6"
      },
      "execution_count": 12,
      "outputs": [
        {
          "output_type": "stream",
          "name": "stdout",
          "text": [
            "Generating feature vectors\n",
            "Processing 100000/100000\n",
            "\n",
            "Extracting features & training batches\n",
            "Processing 1/1\n",
            "\n",
            "Testing\n",
            "Processing 1/1\n",
            "Correct: 7794/10000 = 77.9400 %\n"
          ]
        }
      ]
    },
    {
      "cell_type": "code",
      "source": [
        "!python3 code/logistic.py TRAIN = True"
      ],
      "metadata": {
        "colab": {
          "base_uri": "https://localhost:8080/"
        },
        "id": "Mit0rkKrd-Oz",
        "outputId": "4b68ed40-a148-4c07-dd7f-6867cebef757"
      },
      "execution_count": 29,
      "outputs": [
        {
          "output_type": "stream",
          "name": "stdout",
          "text": [
            "Generating feature vectors\n",
            "Processing 100000/100000\n",
            "\n",
            "Extracting features & training batches\n",
            "2022-01-24 09:52:25.275912: W tensorflow/core/common_runtime/gpu/gpu_bfc_allocator.cc:39] Overriding allow_growth setting because the TF_FORCE_GPU_ALLOW_GROWTH environment variable is set. Original config value was 0.\n",
            "Iteration 105/180, loss:0.6246, acc:0.71202022-01-24 09:52:40.114219: W tensorflow/core/data/root_dataset.cc:163] Optimization loop failed: CANCELLED: Operation was cancelled\n",
            "Iteration 180/180, loss:0.6080, acc:0.7100\n",
            "Epoch: 1, val_acc:0.7318\n",
            "Accuracy improved from 0.0000 to 0.7318, saving model\n",
            "Iteration 10/180, loss:0.5838, acc:0.75602022-01-24 09:52:52.708934: W tensorflow/core/data/root_dataset.cc:163] Optimization loop failed: CANCELLED: Operation was cancelled\n",
            "Iteration 94/180, loss:0.5669, acc:0.74002022-01-24 09:53:02.738087: W tensorflow/core/data/root_dataset.cc:163] Optimization loop failed: CANCELLED: Operation was cancelled\n",
            "Iteration 99/180, loss:0.5818, acc:0.73602022-01-24 09:53:03.327200: W tensorflow/core/data/root_dataset.cc:163] Optimization loop failed: CANCELLED: Operation was cancelled\n",
            "Iteration 180/180, loss:0.5456, acc:0.7440\n",
            "Epoch: 2, val_acc:0.7466\n",
            "Accuracy improved from 0.7318 to 0.7466, saving model\n",
            "Iteration 110/180, loss:0.5284, acc:0.76002022-01-24 09:53:28.435184: W tensorflow/core/data/root_dataset.cc:163] Optimization loop failed: CANCELLED: Operation was cancelled\n",
            "Iteration 111/180, loss:0.5420, acc:0.75402022-01-24 09:53:28.552177: W tensorflow/core/data/root_dataset.cc:163] Optimization loop failed: CANCELLED: Operation was cancelled\n",
            "Iteration 180/180, loss:0.5197, acc:0.76602022-01-24 09:53:38.028584: W tensorflow/core/data/root_dataset.cc:163] Optimization loop failed: CANCELLED: Operation was cancelled\n",
            "2022-01-24 09:53:38.834203: W tensorflow/core/data/root_dataset.cc:163] Optimization loop failed: CANCELLED: Operation was cancelled\n",
            "\n",
            "Epoch: 3, val_acc:0.7547\n",
            "Accuracy improved from 0.7466 to 0.7547, saving model\n",
            "Iteration 117/180, loss:0.5246, acc:0.76402022-01-24 09:53:53.013906: W tensorflow/core/data/root_dataset.cc:163] Optimization loop failed: CANCELLED: Operation was cancelled\n",
            "Iteration 162/180, loss:0.5014, acc:0.78202022-01-24 09:53:58.452203: W tensorflow/core/data/root_dataset.cc:163] Optimization loop failed: CANCELLED: Operation was cancelled\n",
            "Iteration 180/180, loss:0.5166, acc:0.76802022-01-24 09:54:02.659941: W tensorflow/core/data/root_dataset.cc:163] Optimization loop failed: CANCELLED: Operation was cancelled\n",
            "\n",
            "Epoch: 4, val_acc:0.7621\n",
            "Accuracy improved from 0.7547 to 0.7621, saving model\n",
            "Iteration 31/180, loss:0.4993, acc:0.76402022-01-24 09:54:06.685246: W tensorflow/core/data/root_dataset.cc:163] Optimization loop failed: CANCELLED: Operation was cancelled\n",
            "Iteration 43/180, loss:0.4830, acc:0.80002022-01-24 09:54:08.104119: W tensorflow/core/data/root_dataset.cc:163] Optimization loop failed: CANCELLED: Operation was cancelled\n",
            "Iteration 93/180, loss:0.5109, acc:0.75402022-01-24 09:54:14.021391: W tensorflow/core/data/root_dataset.cc:163] Optimization loop failed: CANCELLED: Operation was cancelled\n",
            "Iteration 129/180, loss:0.4636, acc:0.78402022-01-24 09:54:18.264979: W tensorflow/core/data/root_dataset.cc:163] Optimization loop failed: CANCELLED: Operation was cancelled\n",
            "Iteration 180/180, loss:0.4788, acc:0.7800\n",
            "Epoch: 5, val_acc:0.7660\n",
            "Accuracy improved from 0.7621 to 0.7660, saving model\n",
            "Iteration 111/180, loss:0.4759, acc:0.76802022-01-24 09:54:39.774817: W tensorflow/core/data/root_dataset.cc:163] Optimization loop failed: CANCELLED: Operation was cancelled\n",
            "Iteration 180/180, loss:0.4623, acc:0.78802022-01-24 09:54:48.461021: W tensorflow/core/data/root_dataset.cc:163] Optimization loop failed: CANCELLED: Operation was cancelled\n",
            "\n",
            "Epoch: 6, val_acc:0.7662\n",
            "Accuracy improved from 0.7660 to 0.7662, saving model\n",
            "Iteration 18/180, loss:0.4647, acc:0.80802022-01-24 09:54:52.299906: W tensorflow/core/data/root_dataset.cc:163] Optimization loop failed: CANCELLED: Operation was cancelled\n",
            "Iteration 29/180, loss:0.4413, acc:0.80202022-01-24 09:54:53.588333: W tensorflow/core/data/root_dataset.cc:163] Optimization loop failed: CANCELLED: Operation was cancelled\n",
            "Iteration 176/180, loss:0.4891, acc:0.76402022-01-24 09:55:10.803365: W tensorflow/core/data/root_dataset.cc:163] Optimization loop failed: CANCELLED: Operation was cancelled\n",
            "Iteration 180/180, loss:0.4366, acc:0.82402022-01-24 09:55:12.498287: W tensorflow/core/data/root_dataset.cc:163] Optimization loop failed: CANCELLED: Operation was cancelled\n",
            "\n",
            "Epoch: 7, val_acc:0.7685\n",
            "Accuracy improved from 0.7662 to 0.7685, saving model\n",
            "Iteration 71/180, loss:0.4813, acc:0.79802022-01-24 09:55:21.810572: W tensorflow/core/data/root_dataset.cc:163] Optimization loop failed: CANCELLED: Operation was cancelled\n",
            "Iteration 180/180, loss:0.4428, acc:0.80602022-01-24 09:55:36.052204: W tensorflow/core/data/root_dataset.cc:163] Optimization loop failed: CANCELLED: Operation was cancelled\n",
            "\n",
            "Epoch: 8, val_acc:0.7723\n",
            "Accuracy improved from 0.7685 to 0.7723, saving model\n",
            "Iteration 129/180, loss:0.4593, acc:0.81002022-01-24 09:55:51.715387: W tensorflow/core/data/root_dataset.cc:163] Optimization loop failed: CANCELLED: Operation was cancelled\n",
            "Iteration 162/180, loss:0.4169, acc:0.81602022-01-24 09:55:55.516177: W tensorflow/core/data/root_dataset.cc:163] Optimization loop failed: CANCELLED: Operation was cancelled\n",
            "Iteration 180/180, loss:0.4336, acc:0.8040\n",
            "Epoch: 9, val_acc:0.7733\n",
            "Accuracy improved from 0.7723 to 0.7733, saving model\n",
            "Iteration 3/180, loss:0.4369, acc:0.82602022-01-24 09:56:00.201189: W tensorflow/core/data/root_dataset.cc:163] Optimization loop failed: CANCELLED: Operation was cancelled\n",
            "Iteration 12/180, loss:0.4344, acc:0.81402022-01-24 09:56:01.229035: W tensorflow/core/data/root_dataset.cc:163] Optimization loop failed: CANCELLED: Operation was cancelled\n",
            "Iteration 13/180, loss:0.4520, acc:0.78802022-01-24 09:56:01.349562: W tensorflow/core/data/root_dataset.cc:163] Optimization loop failed: CANCELLED: Operation was cancelled\n",
            "Iteration 132/180, loss:0.4367, acc:0.80202022-01-24 09:56:15.030736: W tensorflow/core/data/root_dataset.cc:163] Optimization loop failed: CANCELLED: Operation was cancelled\n",
            "Iteration 180/180, loss:0.4320, acc:0.82202022-01-24 09:56:20.992954: W tensorflow/core/data/root_dataset.cc:163] Optimization loop failed: CANCELLED: Operation was cancelled\n",
            "2022-01-24 09:56:21.100887: W tensorflow/core/data/root_dataset.cc:163] Optimization loop failed: CANCELLED: Operation was cancelled\n",
            "2022-01-24 09:56:21.658319: W tensorflow/core/data/root_dataset.cc:163] Optimization loop failed: CANCELLED: Operation was cancelled\n",
            "\n",
            "Epoch: 10, val_acc:0.7742\n",
            "Accuracy improved from 0.7733 to 0.7742, saving model\n",
            "Iteration 62/180, loss:0.4247, acc:0.82602022-01-24 09:56:29.999071: W tensorflow/core/data/root_dataset.cc:163] Optimization loop failed: CANCELLED: Operation was cancelled\n",
            "Iteration 85/180, loss:0.4096, acc:0.83202022-01-24 09:56:32.656344: W tensorflow/core/data/root_dataset.cc:163] Optimization loop failed: CANCELLED: Operation was cancelled\n",
            "Iteration 87/180, loss:0.4248, acc:0.83202022-01-24 09:56:32.877102: W tensorflow/core/data/root_dataset.cc:163] Optimization loop failed: CANCELLED: Operation was cancelled\n",
            "Iteration 99/180, loss:0.4152, acc:0.81802022-01-24 09:56:34.250151: W tensorflow/core/data/root_dataset.cc:163] Optimization loop failed: CANCELLED: Operation was cancelled\n",
            "Iteration 122/180, loss:0.4100, acc:0.83202022-01-24 09:56:36.884457: W tensorflow/core/data/root_dataset.cc:163] Optimization loop failed: CANCELLED: Operation was cancelled\n",
            "Iteration 168/180, loss:0.4557, acc:0.77802022-01-24 09:56:42.160296: W tensorflow/core/data/root_dataset.cc:163] Optimization loop failed: CANCELLED: Operation was cancelled\n",
            "Iteration 180/180, loss:0.4228, acc:0.8180\n",
            "Epoch: 11, val_acc:0.7757\n",
            "Accuracy improved from 0.7742 to 0.7757, saving model\n",
            "Iteration 54/180, loss:0.4151, acc:0.82602022-01-24 09:56:51.994953: W tensorflow/core/data/root_dataset.cc:163] Optimization loop failed: CANCELLED: Operation was cancelled\n",
            "Iteration 117/180, loss:0.4173, acc:0.81602022-01-24 09:56:59.180355: W tensorflow/core/data/root_dataset.cc:163] Optimization loop failed: CANCELLED: Operation was cancelled\n",
            "Iteration 140/180, loss:0.4127, acc:0.82002022-01-24 09:57:01.799360: W tensorflow/core/data/root_dataset.cc:163] Optimization loop failed: CANCELLED: Operation was cancelled\n",
            "Iteration 180/180, loss:0.4063, acc:0.83002022-01-24 09:57:06.682199: W tensorflow/core/data/root_dataset.cc:163] Optimization loop failed: CANCELLED: Operation was cancelled\n",
            "\n",
            "Epoch: 12, val_acc:0.7753\n",
            "Iteration 63/180, loss:0.4043, acc:0.83202022-01-24 09:57:15.899587: W tensorflow/core/data/root_dataset.cc:163] Optimization loop failed: CANCELLED: Operation was cancelled\n",
            "Iteration 72/180, loss:0.4572, acc:0.80002022-01-24 09:57:16.929236: W tensorflow/core/data/root_dataset.cc:163] Optimization loop failed: CANCELLED: Operation was cancelled\n",
            "Iteration 128/180, loss:0.4256, acc:0.81202022-01-24 09:57:23.300736: W tensorflow/core/data/root_dataset.cc:163] Optimization loop failed: CANCELLED: Operation was cancelled\n",
            "Iteration 135/180, loss:0.4335, acc:0.81802022-01-24 09:57:24.101664: W tensorflow/core/data/root_dataset.cc:163] Optimization loop failed: CANCELLED: Operation was cancelled\n",
            "Iteration 145/180, loss:0.4703, acc:0.79602022-01-24 09:57:25.229335: W tensorflow/core/data/root_dataset.cc:163] Optimization loop failed: CANCELLED: Operation was cancelled\n",
            "Iteration 151/180, loss:0.3987, acc:0.83802022-01-24 09:57:25.903205: W tensorflow/core/data/root_dataset.cc:163] Optimization loop failed: CANCELLED: Operation was cancelled\n",
            "Iteration 180/180, loss:0.4040, acc:0.8420\n",
            "Epoch: 13, val_acc:0.7752\n",
            "Testing\n",
            "Generating feature vectors\n",
            "\n",
            "\n",
            "Predicting batches\n",
            "\n",
            "Saved to logistic.csv\n"
          ]
        }
      ]
    },
    {
      "cell_type": "code",
      "source": [
        "!python2 code/decisiontree.py TRAIN = True"
      ],
      "metadata": {
        "colab": {
          "base_uri": "https://localhost:8080/"
        },
        "id": "3yCztaJlfnoP",
        "outputId": "e4c9c6b1-680d-4379-f365-41ff03807fe0"
      },
      "execution_count": 30,
      "outputs": [
        {
          "output_type": "stream",
          "name": "stdout",
          "text": [
            "Generating feature vectors\n",
            "Processing 100000/100000\n",
            "\n",
            "Extracting features & training batches\n",
            "Processing 1/1\n",
            "\n",
            "Testing\n",
            "Processing 1/1\n",
            "Correct: 6792/10000 = 67.9200 %\n"
          ]
        }
      ]
    },
    {
      "cell_type": "code",
      "source": [
        "!python2 code/randomforest.py TRAIN = True #Classification using random forest"
      ],
      "metadata": {
        "colab": {
          "base_uri": "https://localhost:8080/"
        },
        "id": "cw5CEKCdhZJ-",
        "outputId": "2f55df97-a3b1-4ec3-846f-534b48c014a1"
      },
      "execution_count": 31,
      "outputs": [
        {
          "output_type": "stream",
          "name": "stdout",
          "text": [
            "Generating feature vectors\n",
            "Processing 100000/100000\n",
            "\n",
            "Extracting features & training batches\n",
            "Processing 1/1/usr/local/lib/python2.7/dist-packages/sklearn/ensemble/forest.py:246: FutureWarning: The default value of n_estimators will change from 10 in version 0.20 to 100 in 0.22.\n",
            "  \"10 in version 0.20 to 100 in 0.22.\", FutureWarning)\n",
            "\n",
            "\n",
            "Testing\n",
            "Processing 1/1\n",
            "Correct: 7195/10000 = 71.9500 %\n"
          ]
        }
      ]
    },
    {
      "cell_type": "markdown",
      "source": [
        "Using XGBoost"
      ],
      "metadata": {
        "id": "qMzybn-Ziuzw"
      }
    },
    {
      "cell_type": "code",
      "source": [
        "import utils\n",
        "import random\n",
        "import numpy as np\n",
        "from xgboost import XGBClassifier\n",
        "from scipy.sparse import lil_matrix\n",
        "from sklearn.feature_extraction.text import TfidfTransformer\n",
        "\n",
        "# Performs classification using XGBoost.\n",
        "\n",
        "\n",
        "FREQ_DIST_FILE = 'dataset/train-processed-processed-freqdist.pkl'\n",
        "BI_FREQ_DIST_FILE = 'dataset/train-processed-processed-freqdist-bi.pkl'\n",
        "TRAIN_PROCESSED_FILE = 'dataset/train-processed-processed.csv'\n",
        "TEST_PROCESSED_FILE = 'dataset/test-processed-processed.csv'\n",
        "TRAIN = True\n",
        "UNIGRAM_SIZE = 1500\n",
        "VOCAB_SIZE = UNIGRAM_SIZE\n",
        "USE_BIGRAMS = True\n",
        "if USE_BIGRAMS:\n",
        "    BIGRAM_SIZE = 100\n",
        "    VOCAB_SIZE = UNIGRAM_SIZE + BIGRAM_SIZE\n",
        "FEAT_TYPE = 'frequency'\n",
        "\n",
        "\n",
        "def get_feature_vector(tweet):\n",
        "    uni_feature_vector = []\n",
        "    bi_feature_vector = []\n",
        "    words = tweet.split()\n",
        "    for i in range(len(words) - 1):\n",
        "        word = words[i]\n",
        "        next_word = words[i + 1]\n",
        "        if unigrams.get(word):\n",
        "            uni_feature_vector.append(word)\n",
        "        if USE_BIGRAMS:\n",
        "            if bigrams.get((word, next_word)):\n",
        "                bi_feature_vector.append((word, next_word))\n",
        "    if len(words) >= 1:\n",
        "        if unigrams.get(words[-1]):\n",
        "            uni_feature_vector.append(words[-1])\n",
        "    return uni_feature_vector, bi_feature_vector\n",
        "\n",
        "\n",
        "def extract_features(tweets, batch_size=500, test_file=True, feat_type='presence'):\n",
        "    num_batches = int(np.ceil(len(tweets) / float(batch_size)))\n",
        "    for i in range(num_batches):\n",
        "        batch = tweets[i * batch_size: (i + 1) * batch_size]\n",
        "        features = lil_matrix((batch_size, VOCAB_SIZE))\n",
        "        labels = np.zeros(batch_size)\n",
        "        for j, tweet in enumerate(batch):\n",
        "            if test_file:\n",
        "                tweet_words = tweet[1][0]\n",
        "                tweet_bigrams = tweet[1][1]\n",
        "            else:\n",
        "                tweet_words = tweet[2][0]\n",
        "                tweet_bigrams = tweet[2][1]\n",
        "                labels[j] = tweet[1]\n",
        "            if feat_type == 'presence':\n",
        "                tweet_words = set(tweet_words)\n",
        "                tweet_bigrams = set(tweet_bigrams)\n",
        "            for word in tweet_words:\n",
        "                idx = unigrams.get(word)\n",
        "                if idx:\n",
        "                    features[j, idx] += 1\n",
        "            if USE_BIGRAMS:\n",
        "                for bigram in tweet_bigrams:\n",
        "                    idx = bigrams.get(bigram)\n",
        "                    if idx:\n",
        "                        features[j, UNIGRAM_SIZE + idx] += 1\n",
        "        yield features, labels\n",
        "\n",
        "\n",
        "def apply_tf_idf(X):\n",
        "    transformer = TfidfTransformer(smooth_idf=True, sublinear_tf=True, use_idf=True)\n",
        "    transformer.fit(X)\n",
        "    return transformer\n",
        "\n",
        "\n",
        "def process_tweets(csv_file, test_file=True):\n",
        "    \"\"\"Returns a list of tuples of type (tweet_id, feature_vector)\n",
        "            or (tweet_id, sentiment, feature_vector)\n",
        "    Args:\n",
        "        csv_file (str): Name of processed csv file generated by preprocess.py\n",
        "        test_file (bool, optional): If processing test file\n",
        "    Returns:\n",
        "        list: Of tuples\n",
        "    \"\"\"\n",
        "    tweets = []\n",
        "    print ('Generating feature vectors')\n",
        "    with open(csv_file, 'r') as csv:\n",
        "        lines = csv.readlines()\n",
        "        total = len(lines)\n",
        "        for i, line in enumerate(lines):\n",
        "            if test_file:\n",
        "                tweet_id, tweet = line.split(',')\n",
        "            else:\n",
        "                tweet_id, sentiment, tweet = line.split(',')\n",
        "            feature_vector = get_feature_vector(tweet)\n",
        "            if test_file:\n",
        "                tweets.append((tweet_id, feature_vector))\n",
        "            else:\n",
        "                tweets.append((tweet_id, int(sentiment), feature_vector))\n",
        "            utils.write_status(i + 1, total)\n",
        "    print ('\\n')\n",
        "    return tweets\n",
        "\n",
        "\n",
        "if __name__ == '__main__':\n",
        "    np.random.seed(20)\n",
        "    unigrams = utils.top_n_words(FREQ_DIST_FILE, UNIGRAM_SIZE)\n",
        "    if USE_BIGRAMS:\n",
        "        bigrams = utils.top_n_bigrams(BI_FREQ_DIST_FILE, BIGRAM_SIZE)\n",
        "    tweets = process_tweets(TRAIN_PROCESSED_FILE, test_file=False)\n",
        "    if TRAIN:\n",
        "        train_tweets, val_tweets = utils.split_data(tweets)\n",
        "    else:\n",
        "        random.shuffle(tweets)\n",
        "        train_tweets = tweets\n",
        "    del tweets\n",
        "    print ('Extracting features & training batches')\n",
        "    clf = XGBClassifier(max_depth=25, silent=False, n_estimators=20)\n",
        "    batch_size = len(train_tweets)\n",
        "    i = 1\n",
        "    n_train_batches = int(np.ceil(len(train_tweets) / float(batch_size)))\n",
        "    for training_set_X, training_set_y in extract_features(train_tweets, test_file=False, feat_type=FEAT_TYPE, batch_size=batch_size):\n",
        "        utils.write_status(i, n_train_batches)\n",
        "        i += 1\n",
        "        if FEAT_TYPE == 'frequency':\n",
        "            tfidf = apply_tf_idf(training_set_X)\n",
        "            training_set_X = tfidf.transform(training_set_X)\n",
        "        clf.fit(training_set_X, training_set_y)\n",
        "    print ('\\n')\n",
        "    print ('Testing')\n",
        "    if TRAIN:\n",
        "        correct, total = 0, len(val_tweets)\n",
        "        i = 1\n",
        "        batch_size = len(val_tweets)\n",
        "        n_val_batches = int(np.ceil(len(val_tweets) / float(batch_size)))\n",
        "        for val_set_X, val_set_y in extract_features(val_tweets, test_file=False, feat_type=FEAT_TYPE, batch_size=batch_size):\n",
        "            if FEAT_TYPE == 'frequency':\n",
        "                val_set_X = tfidf.transform(val_set_X)\n",
        "            prediction = clf.predict(val_set_X)\n",
        "            correct += np.sum(prediction == val_set_y)\n",
        "            utils.write_status(i, n_val_batches)\n",
        "            i += 1\n",
        "        print ('\\nCorrect: %d/%d = %.4f %%' % (correct, total, correct * 100. / total))\n",
        "    else:\n",
        "        del train_tweets\n",
        "        test_tweets = process_tweets(TEST_PROCESSED_FILE, test_file=True)\n",
        "        n_test_batches = int(np.ceil(len(test_tweets) / float(batch_size)))\n",
        "        predictions = np.array([])\n",
        "        print ('Predicting batches')\n",
        "        i = 1\n",
        "        for test_set_X, _ in extract_features(test_tweets, test_file=True, feat_type=FEAT_TYPE):\n",
        "            if FEAT_TYPE == 'frequency':\n",
        "                test_set_X = tfidf.transform(test_set_X)\n",
        "            prediction = clf.predict(test_set_X)\n",
        "            predictions = np.concatenate((predictions, prediction))\n",
        "            utils.write_status(i, n_test_batches)\n",
        "            i += 1\n",
        "        predictions = [(str(j), int(predictions[j]))\n",
        "                       for j in range(len(test_tweets))]\n",
        "        utils.save_results_to_csv(predictions, 'xgboost.csv')\n",
        "        print ('\\nSaved to xgboost.csv')"
      ],
      "metadata": {
        "colab": {
          "base_uri": "https://localhost:8080/"
        },
        "id": "8rraG06bhj2x",
        "outputId": "94ccb220-d5a8-4861-a334-87176ba1a3be"
      },
      "execution_count": 32,
      "outputs": [
        {
          "output_type": "stream",
          "name": "stdout",
          "text": [
            "Generating feature vectors\n",
            "Processing 100000/100000\n",
            "\n",
            "Extracting features & training batches\n",
            "Processing 1/1\n",
            "\n",
            "Testing\n",
            "Processing 1/1\n",
            "Correct: 7275/10000 = 72.7500 %\n"
          ]
        }
      ]
    },
    {
      "cell_type": "code",
      "source": [
        "!python2 code/svm.py TRAIN = True #model svm"
      ],
      "metadata": {
        "colab": {
          "base_uri": "https://localhost:8080/"
        },
        "id": "elCnd0OAhqpw",
        "outputId": "91bb45ae-0499-4069-fb31-6ff096b2d8cc"
      },
      "execution_count": 33,
      "outputs": [
        {
          "output_type": "stream",
          "name": "stdout",
          "text": [
            "Generating feature vectors\n",
            "Processing 100000/100000\n",
            "\n",
            "Extracting features & training batches\n",
            "Processing 1/1\n",
            "\n",
            "Testing\n",
            "Processing 1/1\n",
            "Correct: 7848/10000 = 78.4800 %\n"
          ]
        }
      ]
    },
    {
      "cell_type": "code",
      "source": [
        "!python3 code/neuralnet.py TRAIN = True"
      ],
      "metadata": {
        "colab": {
          "base_uri": "https://localhost:8080/"
        },
        "id": "rKq6gfvnitdY",
        "outputId": "8fa669f0-7a0d-4a55-e4b6-1c6686810053"
      },
      "execution_count": 34,
      "outputs": [
        {
          "output_type": "stream",
          "name": "stdout",
          "text": [
            "Generating feature vectors\n",
            "Processing 100000/100000\n",
            "\n",
            "Extracting features & training batches\n",
            "2022-01-24 10:04:47.779436: W tensorflow/core/common_runtime/gpu/gpu_bfc_allocator.cc:39] Overriding allow_growth setting because the TF_FORCE_GPU_ALLOW_GROWTH environment variable is set. Original config value was 0.\n",
            "Iteration 66/180, loss:0.5761, acc:0.71602022-01-24 10:04:54.060183: W tensorflow/core/data/root_dataset.cc:163] Optimization loop failed: CANCELLED: Operation was cancelled\n",
            "Iteration 180/180, loss:0.5063, acc:0.76402022-01-24 10:05:03.593761: W tensorflow/core/data/root_dataset.cc:163] Optimization loop failed: CANCELLED: Operation was cancelled\n",
            "\n",
            "Epoch: 1, val_acc:0.7629\n",
            "Accuracy improved from 0.0000 to 0.7629, saving model\n",
            "Iteration 180/180, loss:0.4847, acc:0.7720\n",
            "Epoch: 2, val_acc:0.7703\n",
            "Accuracy improved from 0.7629 to 0.7703, saving model\n",
            "Iteration 180/180, loss:0.4613, acc:0.7900\n",
            "Epoch: 3, val_acc:0.7698\n",
            "Iteration 180/180, loss:0.4912, acc:0.7760\n",
            "Epoch: 4, val_acc:0.7698\n",
            "Iteration 180/180, loss:0.4636, acc:0.7840\n",
            "Epoch: 5, val_acc:0.7654\n",
            "Testing\n",
            "Generating feature vectors\n",
            "\n",
            "\n",
            "Predicting batches\n",
            "\n",
            "Saved to 1layerneuralnet.csv\n"
          ]
        }
      ]
    },
    {
      "cell_type": "code",
      "source": [
        "!wget http://nlp.stanford.edu/data/glove.6B.zip #Download file"
      ],
      "metadata": {
        "colab": {
          "base_uri": "https://localhost:8080/"
        },
        "id": "69411-YFjN_C",
        "outputId": "e8813d55-8e26-4278-92da-8fecda853666"
      },
      "execution_count": 35,
      "outputs": [
        {
          "output_type": "stream",
          "name": "stdout",
          "text": [
            "--2022-01-24 10:06:26--  http://nlp.stanford.edu/data/glove.6B.zip\n",
            "Resolving nlp.stanford.edu (nlp.stanford.edu)... 171.64.67.140\n",
            "Connecting to nlp.stanford.edu (nlp.stanford.edu)|171.64.67.140|:80... connected.\n",
            "HTTP request sent, awaiting response... 302 Found\n",
            "Location: https://nlp.stanford.edu/data/glove.6B.zip [following]\n",
            "--2022-01-24 10:06:27--  https://nlp.stanford.edu/data/glove.6B.zip\n",
            "Connecting to nlp.stanford.edu (nlp.stanford.edu)|171.64.67.140|:443... connected.\n",
            "HTTP request sent, awaiting response... 301 Moved Permanently\n",
            "Location: http://downloads.cs.stanford.edu/nlp/data/glove.6B.zip [following]\n",
            "--2022-01-24 10:06:27--  http://downloads.cs.stanford.edu/nlp/data/glove.6B.zip\n",
            "Resolving downloads.cs.stanford.edu (downloads.cs.stanford.edu)... 171.64.64.22\n",
            "Connecting to downloads.cs.stanford.edu (downloads.cs.stanford.edu)|171.64.64.22|:80... connected.\n",
            "HTTP request sent, awaiting response... 200 OK\n",
            "Length: 862182613 (822M) [application/zip]\n",
            "Saving to: ‘glove.6B.zip’\n",
            "\n",
            "glove.6B.zip        100%[===================>] 822.24M  5.05MB/s    in 2m 40s  \n",
            "\n",
            "2022-01-24 10:09:07 (5.13 MB/s) - ‘glove.6B.zip’ saved [862182613/862182613]\n",
            "\n"
          ]
        }
      ]
    },
    {
      "cell_type": "code",
      "source": [
        "!unzip glove*.zip"
      ],
      "metadata": {
        "colab": {
          "base_uri": "https://localhost:8080/"
        },
        "id": "szu6I6EikH0B",
        "outputId": "333a6cb2-bf85-4d27-b55e-00fd1132c6e1"
      },
      "execution_count": 36,
      "outputs": [
        {
          "output_type": "stream",
          "name": "stdout",
          "text": [
            "Archive:  glove.6B.zip\n",
            "  inflating: glove.6B.50d.txt        \n",
            "  inflating: glove.6B.100d.txt       \n",
            "  inflating: glove.6B.200d.txt       \n",
            "  inflating: glove.6B.300d.txt       \n"
          ]
        }
      ]
    },
    {
      "cell_type": "code",
      "source": [
        "!python3 code/lstm.py"
      ],
      "metadata": {
        "colab": {
          "base_uri": "https://localhost:8080/"
        },
        "id": "Cqp4_dqnkLc1",
        "outputId": "e9dbd016-4f07-4036-8a7d-687296545d5c"
      },
      "execution_count": 37,
      "outputs": [
        {
          "output_type": "stream",
          "name": "stdout",
          "text": [
            "Looking for GLOVE vectors\n",
            "Processing 400000/0\n",
            "\n",
            "Found 31735 words in GLOVE\n",
            "Generating feature vectors\n",
            "Processing 100000/100000\n",
            "\n",
            "2022-01-24 10:11:37.033724: W tensorflow/core/common_runtime/gpu/gpu_bfc_allocator.cc:39] Overriding allow_growth setting because the TF_FORCE_GPU_ALLOW_GROWTH environment variable is set. Original config value was 0.\n",
            "Model: \"sequential\"\n",
            "_________________________________________________________________\n",
            " Layer (type)                Output Shape              Param #   \n",
            "=================================================================\n",
            " embedding (Embedding)       (None, 40, 200)           18000200  \n",
            "                                                                 \n",
            " dropout (Dropout)           (None, 40, 200)           0         \n",
            "                                                                 \n",
            " lstm (LSTM)                 (None, 128)               168448    \n",
            "                                                                 \n",
            " dense (Dense)               (None, 64)                8256      \n",
            "                                                                 \n",
            " dropout_1 (Dropout)         (None, 64)                0         \n",
            "                                                                 \n",
            " activation (Activation)     (None, 64)                0         \n",
            "                                                                 \n",
            " dense_1 (Dense)             (None, 1)                 65        \n",
            "                                                                 \n",
            " activation_1 (Activation)   (None, 1)                 0         \n",
            "                                                                 \n",
            "=================================================================\n",
            "Total params: 18,176,969\n",
            "Trainable params: 18,176,969\n",
            "Non-trainable params: 0\n",
            "_________________________________________________________________\n",
            "None\n",
            "Epoch 1/5\n",
            "704/704 [==============================] - 16s 16ms/step - loss: 0.5362 - accuracy: 0.7296 - val_loss: 0.4900 - val_accuracy: 0.7642\n",
            "Epoch 2/5\n",
            "704/704 [==============================] - 11s 16ms/step - loss: 0.4590 - accuracy: 0.7871 - val_loss: 0.4616 - val_accuracy: 0.7809\n",
            "Epoch 3/5\n",
            "704/704 [==============================] - 11s 16ms/step - loss: 0.4079 - accuracy: 0.8163 - val_loss: 0.5001 - val_accuracy: 0.7698\n",
            "Epoch 4/5\n",
            "704/704 [==============================] - 11s 16ms/step - loss: 0.3613 - accuracy: 0.8410 - val_loss: 0.4943 - val_accuracy: 0.7724\n",
            "Epoch 5/5\n",
            "704/704 [==============================] - 11s 16ms/step - loss: 0.3237 - accuracy: 0.8609 - val_loss: 0.5283 - val_accuracy: 0.7692\n"
          ]
        }
      ]
    },
    {
      "cell_type": "code",
      "source": [
        "!python3 code/cnn.py #CNN Model with 4 Convolution Layer Neural Network"
      ],
      "metadata": {
        "colab": {
          "base_uri": "https://localhost:8080/"
        },
        "id": "pg7GfVBhkSCY",
        "outputId": "9568b02b-a5e3-4d40-d29e-33a6682d8740"
      },
      "execution_count": 38,
      "outputs": [
        {
          "output_type": "stream",
          "name": "stdout",
          "text": [
            "Looking for GLOVE seeds\n",
            "Processing 400000/0\n",
            "\n",
            "Generating feature vectors\n",
            "Processing 100000/100000\n",
            "\n",
            "2022-01-24 10:15:15.717393: W tensorflow/core/common_runtime/gpu/gpu_bfc_allocator.cc:39] Overriding allow_growth setting because the TF_FORCE_GPU_ALLOW_GROWTH environment variable is set. Original config value was 0.\n",
            "Epoch 1/8\n",
            "704/704 [==============================] - 27s 26ms/step - loss: 0.5313 - accuracy: 0.7253 - val_loss: 0.4671 - val_accuracy: 0.7773\n",
            "Epoch 2/8\n",
            "704/704 [==============================] - 18s 25ms/step - loss: 0.4498 - accuracy: 0.7881 - val_loss: 0.4582 - val_accuracy: 0.7859\n",
            "Epoch 3/8\n",
            "704/704 [==============================] - 18s 25ms/step - loss: 0.3990 - accuracy: 0.8198 - val_loss: 0.4702 - val_accuracy: 0.7756\n",
            "Epoch 4/8\n",
            "704/704 [==============================] - 18s 26ms/step - loss: 0.3513 - accuracy: 0.8447 - val_loss: 0.4733 - val_accuracy: 0.7731\n",
            "Epoch 5/8\n",
            "704/704 [==============================] - 18s 25ms/step - loss: 0.3098 - accuracy: 0.8646 - val_loss: 0.4959 - val_accuracy: 0.7749\n",
            "Epoch 6/8\n",
            "704/704 [==============================] - 18s 25ms/step - loss: 0.2758 - accuracy: 0.8801 - val_loss: 0.5269 - val_accuracy: 0.7659\n",
            "Epoch 7/8\n",
            "704/704 [==============================] - 18s 26ms/step - loss: 0.2442 - accuracy: 0.8959 - val_loss: 0.6337 - val_accuracy: 0.7661\n",
            "Epoch 8/8\n",
            "704/704 [==============================] - 18s 25ms/step - loss: 0.2211 - accuracy: 0.9062 - val_loss: 0.6205 - val_accuracy: 0.7679\n"
          ]
        }
      ]
    }
  ]
}